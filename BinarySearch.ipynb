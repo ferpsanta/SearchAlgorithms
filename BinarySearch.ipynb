{
 "cells": [
  {
   "cell_type": "markdown",
   "metadata": {
    "collapsed": true
   },
   "source": [
    "# Binary search"
   ]
  },
  {
   "cell_type": "code",
   "execution_count": 1,
   "metadata": {},
   "outputs": [],
   "source": [
    "import time\n",
    "import functools\n",
    "\n",
    "def timeit(func):\n",
    "    @functools.wraps(func)\n",
    "    def newfunc(*args, **kwargs):\n",
    "        elapsed_time_list = []\n",
    "        for i in range(300):\n",
    "            startTime = time.time()\n",
    "            func(*args, **kwargs)\n",
    "            elapsed_time_list.append(time.time() - startTime)\n",
    "        \n",
    "        print('Function [{}] finished in:\\n Avg: {} ms\\n Max: {} ms\\n Min: {} ms'.format(func.__name__,\n",
    "                                                                                       sum(elapsed_time_list) / 300 * 1000,\n",
    "                                                                                       max(elapsed_time_list) * 1000,\n",
    "                                                                                       min(elapsed_time_list) * 1000))\n",
    "    return newfunc"
   ]
  },
  {
   "cell_type": "markdown",
   "metadata": {},
   "source": [
    "## Recursive"
   ]
  },
  {
   "cell_type": "code",
   "execution_count": 2,
   "metadata": {},
   "outputs": [],
   "source": [
    "def rec_binary_search(n, data):\n",
    "    data = sorted(data)\n",
    "    list_mid = round(len(data)/2)\n",
    "    \n",
    "    if list_mid == 0:\n",
    "        return n == data[list_mid]\n",
    "    \n",
    "    if n < data[list_mid]:\n",
    "        return rec_binary_search(n, data[:list_mid])\n",
    "    else:\n",
    "        return rec_binary_search(n, data[list_mid:])\n",
    "    \n",
    "    return False"
   ]
  },
  {
   "cell_type": "markdown",
   "metadata": {},
   "source": [
    "For timing purposes `rec_binary_search` has been wrapped in the function `recursive_binary_search`:"
   ]
  },
  {
   "cell_type": "code",
   "execution_count": 3,
   "metadata": {},
   "outputs": [],
   "source": [
    "@timeit\n",
    "def recursive_binary_search(n, data):\n",
    "    return rec_binary_search(n, data)"
   ]
  },
  {
   "cell_type": "markdown",
   "metadata": {},
   "source": [
    "## Non-recursive"
   ]
  },
  {
   "cell_type": "code",
   "execution_count": 4,
   "metadata": {},
   "outputs": [],
   "source": [
    "@timeit\n",
    "def nonrec_binary_search(n, data):\n",
    "    data = sorted(data)\n",
    "    list_mid = round(len(data)/2)\n",
    "    \n",
    "    while(list_mid > 0):\n",
    "        list_mid = round(len(data)/2)\n",
    "        if n < data[list_mid]:\n",
    "            data = data[:list_mid]\n",
    "        else:\n",
    "            data = data[list_mid:]\n",
    "    \n",
    "    return n == data[list_mid]"
   ]
  },
  {
   "cell_type": "markdown",
   "metadata": {},
   "source": [
    "## Performance tests"
   ]
  },
  {
   "cell_type": "code",
   "execution_count": 5,
   "metadata": {},
   "outputs": [],
   "source": [
    "import random\n",
    "\n",
    "data_list = random.sample(range(10000), 10000)"
   ]
  },
  {
   "cell_type": "markdown",
   "metadata": {},
   "source": [
    "#### Looking for the first element in the list"
   ]
  },
  {
   "cell_type": "code",
   "execution_count": 6,
   "metadata": {},
   "outputs": [
    {
     "name": "stdout",
     "output_type": "stream",
     "text": [
      "Function [recursive_binary_search] finished in:\n",
      " Avg: 6.620591481526693 ms\n",
      " Max: 62.36457824707031 ms\n",
      " Min: 2.978086471557617 ms\n",
      "Function [nonrec_binary_search] finished in:\n",
      " Avg: 3.329346179962158 ms\n",
      " Max: 5.357027053833008 ms\n",
      " Min: 2.7899742126464844 ms\n"
     ]
    }
   ],
   "source": [
    "recursive_binary_search(data_list[-1], data_list)\n",
    "nonrec_binary_search(data_list[-1], data_list)"
   ]
  },
  {
   "cell_type": "markdown",
   "metadata": {},
   "source": [
    "#### Looking for the middle element in the list"
   ]
  },
  {
   "cell_type": "code",
   "execution_count": 7,
   "metadata": {},
   "outputs": [
    {
     "name": "stdout",
     "output_type": "stream",
     "text": [
      "Function [recursive_binary_search] finished in:\n",
      " Avg: 3.514111042022705 ms\n",
      " Max: 15.001296997070312 ms\n",
      " Min: 2.954721450805664 ms\n",
      "Function [nonrec_binary_search] finished in:\n",
      " Avg: 3.257184823354085 ms\n",
      " Max: 15.218019485473633 ms\n",
      " Min: 2.687215805053711 ms\n"
     ]
    }
   ],
   "source": [
    "recursive_binary_search(data_list[round(len(data_list)/2)], data_list)\n",
    "nonrec_binary_search(data_list[round(len(data_list)/2)], data_list)"
   ]
  },
  {
   "cell_type": "markdown",
   "metadata": {},
   "source": [
    "#### Looking for last element in the list"
   ]
  },
  {
   "cell_type": "code",
   "execution_count": 8,
   "metadata": {},
   "outputs": [
    {
     "name": "stdout",
     "output_type": "stream",
     "text": [
      "Function [recursive_binary_search] finished in:\n",
      " Avg: 3.431882858276367 ms\n",
      " Max: 6.353855133056641 ms\n",
      " Min: 2.9647350311279297 ms\n",
      "Function [nonrec_binary_search] finished in:\n",
      " Avg: 3.7475474675496416 ms\n",
      " Max: 7.463932037353516 ms\n",
      " Min: 2.4836063385009766 ms\n"
     ]
    }
   ],
   "source": [
    "recursive_binary_search(data_list[-1], data_list)\n",
    "nonrec_binary_search(data_list[-1], data_list)"
   ]
  },
  {
   "cell_type": "markdown",
   "metadata": {},
   "source": [
    "#### Number not in list 123456"
   ]
  },
  {
   "cell_type": "code",
   "execution_count": 9,
   "metadata": {},
   "outputs": [
    {
     "name": "stdout",
     "output_type": "stream",
     "text": [
      "Function [recursive_binary_search] finished in:\n",
      " Avg: 3.4356872240702314 ms\n",
      " Max: 9.874582290649414 ms\n",
      " Min: 2.744913101196289 ms\n",
      "Function [nonrec_binary_search] finished in:\n",
      " Avg: 3.5717336336771646 ms\n",
      " Max: 10.992288589477539 ms\n",
      " Min: 2.7954578399658203 ms\n"
     ]
    }
   ],
   "source": [
    "recursive_binary_search(1234567, data_list)\n",
    "nonrec_binary_search(1234567, data_list)"
   ]
  },
  {
   "cell_type": "markdown",
   "metadata": {},
   "source": [
    "#### Average scenario: Randomly picked number from the list"
   ]
  },
  {
   "cell_type": "code",
   "execution_count": 10,
   "metadata": {},
   "outputs": [
    {
     "name": "stdout",
     "output_type": "stream",
     "text": [
      "Function [recursive_binary_search] finished in:\n",
      " Avg: 4.100337028503418 ms\n",
      " Max: 12.687206268310547 ms\n",
      " Min: 2.9001235961914062 ms\n",
      "Function [nonrec_binary_search] finished in:\n",
      " Avg: 3.3666261037190757 ms\n",
      " Max: 6.422758102416992 ms\n",
      " Min: 2.799510955810547 ms\n"
     ]
    }
   ],
   "source": [
    "rand_num = random.choice(data_list)\n",
    "recursive_binary_search(rand_num, data_list)\n",
    "nonrec_binary_search(rand_num, data_list)"
   ]
  },
  {
   "cell_type": "code",
   "execution_count": null,
   "metadata": {},
   "outputs": [],
   "source": []
  }
 ],
 "metadata": {
  "kernelspec": {
   "display_name": "Python 3.6",
   "language": "python",
   "name": "python36"
  },
  "language_info": {
   "codemirror_mode": {
    "name": "ipython",
    "version": 3
   },
   "file_extension": ".py",
   "mimetype": "text/x-python",
   "name": "python",
   "nbconvert_exporter": "python",
   "pygments_lexer": "ipython3",
   "version": "3.6.3"
  }
 },
 "nbformat": 4,
 "nbformat_minor": 2
}
