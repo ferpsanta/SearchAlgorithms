{
 "cells": [
  {
   "cell_type": "markdown",
   "metadata": {},
   "source": [
    "# Search in undirected and unweighted graphs\n",
    "## Depth-First-Search vs Breadth-First-Search"
   ]
  },
  {
   "cell_type": "code",
   "execution_count": 1,
   "metadata": {},
   "outputs": [],
   "source": [
    "import time\n",
    "import functools\n",
    "\n",
    "def timeit(func):\n",
    "    @functools.wraps(func)\n",
    "    def newfunc(*args, **kwargs):\n",
    "        elapsed_time_list = []\n",
    "        for i in range(300):\n",
    "            startTime = time.time()\n",
    "            func_ret = func(*args, **kwargs)\n",
    "            elapsed_time_list.append(time.time() - startTime)\n",
    "        \n",
    "        print('Function [{}] finished in:\\n \\\n",
    "               Avg: {} ms\\n \\\n",
    "               Max: {} ms\\n \\\n",
    "               Min: {} ms\\n \\\n",
    "               Return: {}'.format(func.__name__,\n",
    "                                 sum(elapsed_time_list) / 300 * 1000,\n",
    "                                 max(elapsed_time_list) * 1000,\n",
    "                                 min(elapsed_time_list) * 1000,\n",
    "                                 func_ret))\n",
    "    return newfunc"
   ]
  },
  {
   "cell_type": "markdown",
   "metadata": {},
   "source": [
    "## Class `Node`\n",
    "\n",
    "A graph is a group of `Node` objects linked between them, each node keeps a reference to it's parent and also a reference to all it's accesible children nodes (neighbours in the code).\n",
    "Inside de class `Node` four methods has been implemented:\n",
    "* `has_path_rec_dfs`: for the Depth-First-Search path look up implemented in a recursive way\n",
    "* `has_path_rec_bfs`: for the Breadth-First-Search path look up implemented in a recursive way\n",
    "* `has_path_nonrec_dfs`: for the Depth-First-Search path look up implemented in a non-recursive way\n",
    "\n",
    "Additionally the `Node` class has two auxiliary methods:\n",
    "* `add_neighbour`: is the method to add new children to the node\n",
    "* `has_neighbour`: is the method to add new children to the node\n",
    "\n",
    "And one methods only used for timing purposes (wrapping the recursive functions):\n",
    "* `has_path_recursive_dfs`\n",
    "\n",
    "The implementation of *recursive Breadth-First-Search* is meaningless."
   ]
  },
  {
   "cell_type": "code",
   "execution_count": 2,
   "metadata": {},
   "outputs": [],
   "source": [
    "class Node(object):\n",
    "    def __init__(self, name):\n",
    "        self.name = name\n",
    "        self.parent_node = None\n",
    "        self.neighbour_set = set() # A node cannot have twice the same neighbour\n",
    "        \n",
    "    def add_neighbour(self, node):\n",
    "        node.parent_node = self \n",
    "        self.neighbour_set.add(node)\n",
    "            \n",
    "    def has_neighbour(self, node):\n",
    "        return node in self.neighbour_set or node is self\n",
    "\n",
    "    # Depth-First-Search (DFS) recursive\n",
    "    @timeit\n",
    "    def has_path_recursive_dfs(self, destination):\n",
    "        return self.has_path_rec_dfs(destination)\n",
    "    \n",
    "    def has_path_rec_dfs(self, destination, visited=None):\n",
    "        path_found = False\n",
    "        \n",
    "        if self.has_neighbour(destination):\n",
    "            path_found = True\n",
    "        else:\n",
    "            for neighbour in self.neighbour_set:\n",
    "                path_found = neighbour.has_path_rec_dfs(destination, visited)\n",
    "                if path_found:\n",
    "                    break\n",
    "                \n",
    "        return path_found\n",
    "    \n",
    "    # Depth-First-Search (DFS) non-recursive\n",
    "    @timeit\n",
    "    def has_path_nonrec_dfs(self, destination):\n",
    "        path_found = False\n",
    "        candidate_nodes = list(self.neighbour_set)\n",
    "        visited_nodes = {self}\n",
    "        \n",
    "        if self.has_neighbour(destination):\n",
    "            return True\n",
    "        \n",
    "        while candidate_nodes:\n",
    "            next_node_to_visit = candidate_nodes.pop()\n",
    "            \n",
    "            if next_node_to_visit not in visited_nodes:\n",
    "                visited_nodes.add(next_node_to_visit)\n",
    "                if next_node_to_visit.has_neighbour(destination):\n",
    "                    path_found = True\n",
    "                    break\n",
    "                candidate_nodes.extend(list(next_node_to_visit.neighbour_set))\n",
    "            \n",
    "        return path_found\n",
    "    \n",
    "    #Breadth-First-Search non-recursive\n",
    "    @timeit\n",
    "    def has_path_nonrec_bfs(self, destination):\n",
    "        path_found = False\n",
    "        candidate_nodes = list(self.neighbour_set)\n",
    "        \n",
    "        if self.has_neighbour(destination):\n",
    "            return True\n",
    "        \n",
    "        while candidate_nodes:\n",
    "            next_node_to_visit = candidate_nodes.pop(0)\n",
    "            if next_node_to_visit.has_neighbour(destination):\n",
    "                return True\n",
    "            candidate_nodes.extend(list(next_node_to_visit.neighbour_set))\n",
    "            \n",
    "        return path_found\n",
    "    "
   ]
  },
  {
   "cell_type": "markdown",
   "metadata": {},
   "source": [
    "## Performance"
   ]
  },
  {
   "cell_type": "markdown",
   "metadata": {},
   "source": [
    "### Balanced graph"
   ]
  },
  {
   "cell_type": "code",
   "execution_count": 3,
   "metadata": {},
   "outputs": [],
   "source": [
    "node_a = Node('A')\n",
    "node_b = Node('B')\n",
    "node_c = Node('C')\n",
    "node_d = Node('D')\n",
    "node_e = Node('E')\n",
    "node_f = Node('F')\n",
    "node_g = Node('G')\n",
    "node_h = Node('H')\n",
    "node_i = Node('I')\n",
    "node_j = Node('J')\n",
    "node_k = Node('K')\n",
    "node_l = Node('L')\n",
    "node_m = Node('M')\n",
    "node_n = Node('N')\n",
    "\n",
    "node_a.add_neighbour(node_b)\n",
    "node_a.add_neighbour(node_c)\n",
    "node_a.add_neighbour(node_d)\n",
    "node_b.add_neighbour(node_e)\n",
    "node_b.add_neighbour(node_f)\n",
    "node_e.add_neighbour(node_k)\n",
    "node_c.add_neighbour(node_h)\n",
    "node_h.add_neighbour(node_g)\n",
    "node_d.add_neighbour(node_i)\n",
    "node_d.add_neighbour(node_j)\n",
    "node_j.add_neighbour(node_l)"
   ]
  },
  {
   "cell_type": "markdown",
   "metadata": {},
   "source": [
    "##### Existing node"
   ]
  },
  {
   "cell_type": "code",
   "execution_count": 4,
   "metadata": {},
   "outputs": [
    {
     "name": "stdout",
     "output_type": "stream",
     "text": [
      "Function [has_path_nonrec_bfs] finished in:\n",
      "                Avg: 0.013151168823242188 ms\n",
      "                Max: 0.07748603820800781 ms\n",
      "                Min: 0.00858306884765625 ms\n",
      "                Return: True\n",
      "Function [has_path_nonrec_dfs] finished in:\n",
      "                Avg: 0.00490268071492513 ms\n",
      "                Max: 0.04029273986816406 ms\n",
      "                Min: 0.0035762786865234375 ms\n",
      "                Return: True\n"
     ]
    }
   ],
   "source": [
    "node_a.has_path_nonrec_bfs(node_g)\n",
    "node_a.has_path_nonrec_dfs(node_g)"
   ]
  },
  {
   "cell_type": "code",
   "execution_count": 5,
   "metadata": {},
   "outputs": [
    {
     "name": "stdout",
     "output_type": "stream",
     "text": [
      "Function [has_path_recursive_dfs] finished in:\n",
      "                Avg: 0.01654783884684245 ms\n",
      "                Max: 1.1835098266601562 ms\n",
      "                Min: 0.0069141387939453125 ms\n",
      "                Return: True\n"
     ]
    }
   ],
   "source": [
    "node_a.has_path_recursive_dfs(node_g)"
   ]
  },
  {
   "cell_type": "markdown",
   "metadata": {},
   "source": [
    "#### Unexisting node"
   ]
  },
  {
   "cell_type": "code",
   "execution_count": 6,
   "metadata": {},
   "outputs": [
    {
     "name": "stdout",
     "output_type": "stream",
     "text": [
      "Function [has_path_nonrec_bfs] finished in:\n",
      "                Avg: 0.06397565205891927 ms\n",
      "                Max: 8.048772811889648 ms\n",
      "                Min: 0.015974044799804688 ms\n",
      "                Return: False\n",
      "Function [has_path_nonrec_dfs] finished in:\n",
      "                Avg: 0.07319450378417969 ms\n",
      "                Max: 8.515119552612305 ms\n",
      "                Min: 0.01811981201171875 ms\n",
      "                Return: False\n"
     ]
    }
   ],
   "source": [
    "node_a.has_path_nonrec_bfs(node_m)\n",
    "node_a.has_path_nonrec_dfs(node_m)"
   ]
  },
  {
   "cell_type": "code",
   "execution_count": 7,
   "metadata": {},
   "outputs": [
    {
     "name": "stdout",
     "output_type": "stream",
     "text": [
      "Function [has_path_recursive_dfs] finished in:\n",
      "                Avg: 0.014530817667643229 ms\n",
      "                Max: 0.17714500427246094 ms\n",
      "                Min: 0.009775161743164062 ms\n",
      "                Return: False\n"
     ]
    }
   ],
   "source": [
    "node_a.has_path_recursive_dfs(node_m)"
   ]
  },
  {
   "cell_type": "markdown",
   "metadata": {},
   "source": [
    "### Unbalanced graph"
   ]
  },
  {
   "cell_type": "code",
   "execution_count": 8,
   "metadata": {},
   "outputs": [],
   "source": [
    "node_a = Node('A')\n",
    "node_b = Node('B')\n",
    "node_c = Node('C')\n",
    "node_d = Node('D')\n",
    "node_e = Node('E')\n",
    "node_f = Node('F')\n",
    "node_g = Node('G')\n",
    "node_h = Node('H')\n",
    "node_i = Node('I')\n",
    "node_j = Node('J')\n",
    "node_k = Node('K')\n",
    "node_l = Node('L')\n",
    "node_m = Node('M')\n",
    "node_n = Node('N')\n",
    "node_o = Node('O')\n",
    "\n",
    "node_a.add_neighbour(node_b)\n",
    "node_a.add_neighbour(node_c)\n",
    "node_a.add_neighbour(node_j)\n",
    "node_c.add_neighbour(node_d)\n",
    "node_d.add_neighbour(node_f)\n",
    "node_f.add_neighbour(node_g)\n",
    "node_g.add_neighbour(node_h)\n",
    "node_h.add_neighbour(node_i)\n",
    "node_c.add_neighbour(node_k)\n",
    "node_k.add_neighbour(node_l)\n",
    "node_c.add_neighbour(node_k)\n",
    "node_j.add_neighbour(node_m)"
   ]
  },
  {
   "cell_type": "markdown",
   "metadata": {},
   "source": [
    "##### Existing node"
   ]
  },
  {
   "cell_type": "code",
   "execution_count": 9,
   "metadata": {},
   "outputs": [
    {
     "name": "stdout",
     "output_type": "stream",
     "text": [
      "Function [has_path_nonrec_bfs] finished in:\n",
      "                Avg: 0.014500617980957031 ms\n",
      "                Max: 0.06413459777832031 ms\n",
      "                Min: 0.01049041748046875 ms\n",
      "                Return: True\n",
      "Function [has_path_nonrec_dfs] finished in:\n",
      "                Avg: 0.028715133666992188 ms\n",
      "                Max: 6.244421005249023 ms\n",
      "                Min: 0.0050067901611328125 ms\n",
      "                Return: True\n"
     ]
    }
   ],
   "source": [
    "node_a.has_path_nonrec_bfs(node_g)\n",
    "node_a.has_path_nonrec_dfs(node_g)"
   ]
  },
  {
   "cell_type": "code",
   "execution_count": 10,
   "metadata": {},
   "outputs": [
    {
     "name": "stdout",
     "output_type": "stream",
     "text": [
      "Function [has_path_recursive_dfs] finished in:\n",
      "                Avg: 0.010154247283935547 ms\n",
      "                Max: 0.46181678771972656 ms\n",
      "                Min: 0.006198883056640625 ms\n",
      "                Return: True\n"
     ]
    }
   ],
   "source": [
    "node_a.has_path_recursive_dfs(node_g)"
   ]
  },
  {
   "cell_type": "markdown",
   "metadata": {},
   "source": [
    "#### Unexisting node"
   ]
  },
  {
   "cell_type": "code",
   "execution_count": 11,
   "metadata": {},
   "outputs": [
    {
     "name": "stdout",
     "output_type": "stream",
     "text": [
      "Function [has_path_nonrec_bfs] finished in:\n",
      "                Avg: 0.04649957021077474 ms\n",
      "                Max: 7.523536682128906 ms\n",
      "                Min: 0.013113021850585938 ms\n",
      "                Return: False\n",
      "Function [has_path_nonrec_dfs] finished in:\n",
      "                Avg: 0.04852453867594401 ms\n",
      "                Max: 5.627870559692383 ms\n",
      "                Min: 0.01430511474609375 ms\n",
      "                Return: False\n"
     ]
    }
   ],
   "source": [
    "node_a.has_path_nonrec_bfs(node_o)\n",
    "node_a.has_path_nonrec_dfs(node_o)"
   ]
  },
  {
   "cell_type": "code",
   "execution_count": 12,
   "metadata": {},
   "outputs": [
    {
     "name": "stdout",
     "output_type": "stream",
     "text": [
      "Function [has_path_recursive_dfs] finished in:\n",
      "                Avg: 0.055321852366129555 ms\n",
      "                Max: 12.797117233276367 ms\n",
      "                Min: 0.00858306884765625 ms\n",
      "                Return: False\n"
     ]
    }
   ],
   "source": [
    "node_a.has_path_recursive_dfs(node_o)"
   ]
  },
  {
   "cell_type": "code",
   "execution_count": null,
   "metadata": {},
   "outputs": [],
   "source": []
  }
 ],
 "metadata": {
  "kernelspec": {
   "display_name": "Python 3",
   "language": "python",
   "name": "python3"
  },
  "language_info": {
   "codemirror_mode": {
    "name": "ipython",
    "version": 3
   },
   "file_extension": ".py",
   "mimetype": "text/x-python",
   "name": "python",
   "nbconvert_exporter": "python",
   "pygments_lexer": "ipython3",
   "version": "3.5.4"
  }
 },
 "nbformat": 4,
 "nbformat_minor": 2
}
