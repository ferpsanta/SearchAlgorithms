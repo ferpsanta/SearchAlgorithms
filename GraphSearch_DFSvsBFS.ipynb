{
 "cells": [
  {
   "cell_type": "code",
   "execution_count": 1,
   "metadata": {},
   "outputs": [],
   "source": [
    "import time\n",
    "import functools\n",
    "\n",
    "def timeit(func):\n",
    "    @functools.wraps(func)\n",
    "    def newfunc(*args, **kwargs):\n",
    "        elapsed_time_list = []\n",
    "        for i in range(300):\n",
    "            startTime = time.time()\n",
    "            func(*args, **kwargs)\n",
    "            elapsed_time_list.append(time.time() - startTime)\n",
    "        \n",
    "        print('Function [{}] finished in:\\n \\\n",
    "               Avg: {} ms\\n \\\n",
    "               Max: {} ms\\n \\\n",
    "               Min: {} ms'.format(func.__name__,\n",
    "                                 sum(elapsed_time_list) / 300 * 1000,\n",
    "                                 max(elapsed_time_list) * 1000,\n",
    "                                 min(elapsed_time_list) * 1000))\n",
    "    return newfunc"
   ]
  },
  {
   "cell_type": "markdown",
   "metadata": {},
   "source": [
    "# Graph definition: DFS and BFS\n",
    "\n",
    "Inside de class `Node` two methods has been implemented:\n",
    "* `has_path_dfs`: for the Depth-First-Search path look up\n",
    "* `has_path_bfs`: for the Breadth-First-Search path look up"
   ]
  },
  {
   "cell_type": "code",
   "execution_count": 2,
   "metadata": {},
   "outputs": [],
   "source": [
    "class Node(object):\n",
    "    def __init__(self, name):\n",
    "        self.name = name\n",
    "        self.parent_node = None\n",
    "        self.neighbour_set = set() # A node cannot have twice the same neighbour\n",
    "        \n",
    "    def add_neighbour(self, node):\n",
    "        node.parent_node = self \n",
    "        self.neighbour_set.add(node)\n",
    "            \n",
    "    def has_neighbour(self, node):\n",
    "        return node in self.neighbour_set or node is self\n",
    "\n",
    "    # Depth-First-Search (DFS) recursive\n",
    "    @timeit\n",
    "    def has_path_recursive_dfs(self, destination):\n",
    "        return self.has_path_rec_dfs(destination)\n",
    "    \n",
    "    def has_path_rec_dfs(self, destination, visited=None):\n",
    "        path_found = False\n",
    "        \n",
    "        if self.has_neighbour(destination):\n",
    "            path_found = True\n",
    "        else:\n",
    "            for neighbour in self.neighbour_set:\n",
    "                path_found = neighbour.has_path_rec_dfs(destination, visited)\n",
    "                if path_found:\n",
    "                    break\n",
    "                \n",
    "        return path_found\n",
    "    \n",
    "    # Depth-First-Search (DFS) non-recursive\n",
    "    @timeit\n",
    "    def has_path_nonrec_dfs(self, destination):\n",
    "        path_found = False\n",
    "        candidate_nodes = list(self.neighbour_set)\n",
    "        visited_nodes = {self}\n",
    "        \n",
    "        if self.has_neighbour(destination):\n",
    "            return True\n",
    "        \n",
    "        while candidate_nodes:\n",
    "            next_node_to_visit = candidate_nodes.pop()\n",
    "            \n",
    "            if next_node_to_visit not in visited_nodes:\n",
    "                visited_nodes.add(next_node_to_visit)\n",
    "                if next_node_to_visit.has_neighbour(destination):\n",
    "                    path_found = True\n",
    "                    break\n",
    "                candidate_nodes.extend(list(next_node_to_visit.neighbour_set))\n",
    "            \n",
    "        return path_found\n",
    "    \n",
    "    #Breadth-First-Search recursive\n",
    "    @timeit\n",
    "    def has_path_recursive_bfs(self, destination):\n",
    "        return self.has_path_rec_bfs(destination)\n",
    "    \n",
    "    def has_path_rec_bfs(self, destination):\n",
    "        path_found = False\n",
    "        \n",
    "        # TODO\n",
    "            \n",
    "        return path_found\n",
    "    \n",
    "    #Breadth-First-Search non-recursive\n",
    "    @timeit\n",
    "    def has_path_nonrec_bfs(self, destination):\n",
    "        path_found = False\n",
    "        candidate_nodes = list(self.neighbour_set)\n",
    "        \n",
    "        if self.has_neighbour(destination):\n",
    "            return True\n",
    "        \n",
    "        while candidate_nodes:\n",
    "            next_node_to_visit = candidate_nodes.pop(0)\n",
    "            if next_node_to_visit.has_neighbour(destination):\n",
    "                return True\n",
    "            candidate_nodes.extend(list(next_node_to_visit.neighbour_set))\n",
    "            \n",
    "        return path_found\n",
    "    "
   ]
  },
  {
   "cell_type": "markdown",
   "metadata": {},
   "source": [
    "## Performance"
   ]
  },
  {
   "cell_type": "code",
   "execution_count": 3,
   "metadata": {},
   "outputs": [],
   "source": [
    "node_a = Node('A')\n",
    "node_b = Node('B')\n",
    "node_c = Node('C')\n",
    "node_d = Node('D')\n",
    "node_e = Node('E')\n",
    "node_f = Node('F')\n",
    "node_g = Node('G')\n",
    "node_h = Node('H')\n",
    "node_i = Node('I')\n",
    "node_j = Node('J')\n",
    "node_k = Node('K')\n",
    "node_l = Node('L')\n",
    "node_m = Node('M')\n",
    "node_n = Node('N')"
   ]
  },
  {
   "cell_type": "markdown",
   "metadata": {},
   "source": [
    "### Balanced graph"
   ]
  },
  {
   "cell_type": "code",
   "execution_count": 4,
   "metadata": {},
   "outputs": [],
   "source": [
    "node_a.add_neighbour(node_b)\n",
    "node_a.add_neighbour(node_c)\n",
    "node_a.add_neighbour(node_d)\n",
    "node_b.add_neighbour(node_e)\n",
    "node_b.add_neighbour(node_f)\n",
    "node_e.add_neighbour(node_k)\n",
    "node_c.add_neighbour(node_h)\n",
    "node_h.add_neighbour(node_g)\n",
    "node_d.add_neighbour(node_i)\n",
    "node_d.add_neighbour(node_j)\n",
    "node_j.add_neighbour(node_l)"
   ]
  },
  {
   "attachments": {},
   "cell_type": "markdown",
   "metadata": {},
   "source": [
    "<img src=\"files/graph.PNG\">"
   ]
  },
  {
   "cell_type": "code",
   "execution_count": 8,
   "metadata": {},
   "outputs": [
    {
     "name": "stdout",
     "output_type": "stream",
     "text": [
      "Function [has_path_nonrec_bfs] finished in:\n",
      "                Avg: 0.010046958923339844 ms\n",
      "                Max: 0.7903575897216797 ms\n",
      "                Min: 0.0030994415283203125 ms\n",
      "Function [has_path_nonrec_dfs] finished in:\n",
      "                Avg: 0.021550655364990234 ms\n",
      "                Max: 0.25844573974609375 ms\n",
      "                Min: 0.00858306884765625 ms\n"
     ]
    }
   ],
   "source": [
    "node_a.has_path_nonrec_bfs(node_g)\n",
    "node_a.has_path_nonrec_dfs(node_g)"
   ]
  },
  {
   "cell_type": "code",
   "execution_count": 9,
   "metadata": {},
   "outputs": [
    {
     "name": "stdout",
     "output_type": "stream",
     "text": [
      "Function [has_path_recursive_bfs] finished in:\n",
      "                Avg: 0.0008106231689453125 ms\n",
      "                Max: 0.018596649169921875 ms\n",
      "                Min: 0.000476837158203125 ms\n",
      "Function [has_path_recursive_dfs] finished in:\n",
      "                Avg: 0.024366378784179688 ms\n",
      "                Max: 6.248950958251953 ms\n",
      "                Min: 0.0026226043701171875 ms\n"
     ]
    }
   ],
   "source": [
    "node_a.has_path_recursive_bfs(node_g)\n",
    "node_a.has_path_recursive_dfs(node_g)"
   ]
  },
  {
   "cell_type": "code",
   "execution_count": null,
   "metadata": {},
   "outputs": [],
   "source": []
  }
 ],
 "metadata": {
  "kernelspec": {
   "display_name": "Python 3",
   "language": "python",
   "name": "python3"
  },
  "language_info": {
   "codemirror_mode": {
    "name": "ipython",
    "version": 3
   },
   "file_extension": ".py",
   "mimetype": "text/x-python",
   "name": "python",
   "nbconvert_exporter": "python",
   "pygments_lexer": "ipython3",
   "version": "3.5.4"
  }
 },
 "nbformat": 4,
 "nbformat_minor": 2
}
